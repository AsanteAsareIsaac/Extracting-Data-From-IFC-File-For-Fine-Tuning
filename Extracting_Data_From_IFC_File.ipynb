{
  "nbformat": 4,
  "nbformat_minor": 0,
  "metadata": {
    "colab": {
      "provenance": [],
      "authorship_tag": "ABX9TyM8s1TAuysUNvHZGyCcQPxN"
    },
    "kernelspec": {
      "name": "python3",
      "display_name": "Python 3"
    },
    "language_info": {
      "name": "python"
    }
  },
  "cells": [
    {
      "source": [
        "!pip install ifcopenshell"
      ],
      "cell_type": "code",
      "metadata": {
        "colab": {
          "base_uri": "https://localhost:8080/"
        },
        "id": "NvEl7G9TKsKy",
        "outputId": "1581f280-30a6-475b-8b95-49a57a449a21"
      },
      "execution_count": 2,
      "outputs": [
        {
          "output_type": "stream",
          "name": "stdout",
          "text": [
            "Collecting ifcopenshell\n",
            "  Downloading ifcopenshell-0.8.2-py311-none-manylinux_2_31_x86_64.whl.metadata (11 kB)\n",
            "Requirement already satisfied: shapely in /usr/local/lib/python3.11/dist-packages (from ifcopenshell) (2.1.0)\n",
            "Requirement already satisfied: numpy in /usr/local/lib/python3.11/dist-packages (from ifcopenshell) (2.0.2)\n",
            "Collecting isodate (from ifcopenshell)\n",
            "  Downloading isodate-0.7.2-py3-none-any.whl.metadata (11 kB)\n",
            "Requirement already satisfied: python-dateutil in /usr/local/lib/python3.11/dist-packages (from ifcopenshell) (2.9.0.post0)\n",
            "Collecting lark (from ifcopenshell)\n",
            "  Downloading lark-1.2.2-py3-none-any.whl.metadata (1.8 kB)\n",
            "Requirement already satisfied: typing-extensions in /usr/local/lib/python3.11/dist-packages (from ifcopenshell) (4.13.2)\n",
            "Requirement already satisfied: six>=1.5 in /usr/local/lib/python3.11/dist-packages (from python-dateutil->ifcopenshell) (1.17.0)\n",
            "Downloading ifcopenshell-0.8.2-py311-none-manylinux_2_31_x86_64.whl (40.8 MB)\n",
            "\u001b[2K   \u001b[90m━━━━━━━━━━━━━━━━━━━━━━━━━━━━━━━━━━━━━━━━\u001b[0m \u001b[32m40.8/40.8 MB\u001b[0m \u001b[31m17.6 MB/s\u001b[0m eta \u001b[36m0:00:00\u001b[0m\n",
            "\u001b[?25hDownloading isodate-0.7.2-py3-none-any.whl (22 kB)\n",
            "Downloading lark-1.2.2-py3-none-any.whl (111 kB)\n",
            "\u001b[2K   \u001b[90m━━━━━━━━━━━━━━━━━━━━━━━━━━━━━━━━━━━━━━━━\u001b[0m \u001b[32m111.0/111.0 kB\u001b[0m \u001b[31m9.9 MB/s\u001b[0m eta \u001b[36m0:00:00\u001b[0m\n",
            "\u001b[?25hInstalling collected packages: lark, isodate, ifcopenshell\n",
            "Successfully installed ifcopenshell-0.8.2 isodate-0.7.2 lark-1.2.2\n"
          ]
        }
      ]
    },
    {
      "cell_type": "code",
      "source": [
        "import ifcopenshell"
      ],
      "metadata": {
        "id": "z-yUjDDjLBjV"
      },
      "execution_count": 3,
      "outputs": []
    },
    {
      "cell_type": "code",
      "source": [
        "# Load an IFC file\n",
        "ifc_file = ifcopenshell.open(\"/content/1.ifc\")\n",
        "\n",
        "# Get basic file information\n",
        "schema = ifc_file.schema  # e.g., 'IFC2X3', 'IFC4', etc.\n",
        "print(f\"IFC Schema: {schema}\")"
      ],
      "metadata": {
        "colab": {
          "base_uri": "https://localhost:8080/"
        },
        "id": "SE0xbodlLGzX",
        "outputId": "d4152935-5a61-433e-9433-1e989c9cab14"
      },
      "execution_count": 4,
      "outputs": [
        {
          "output_type": "stream",
          "name": "stdout",
          "text": [
            "IFC Schema: IFC2X3\n"
          ]
        }
      ]
    },
    {
      "cell_type": "markdown",
      "source": [
        "# Extracting Elements by Type"
      ],
      "metadata": {
        "id": "yM7CDOwYLZwN"
      }
    },
    {
      "cell_type": "code",
      "source": [
        "# Get all walls in the model\n",
        "walls = ifc_file.by_type(\"IfcWall\")\n",
        "print(f\"Found {len(walls)} walls\")\n",
        "\n",
        "# Get other element types\n",
        "slabs = ifc_file.by_type(\"IfcSlab\")\n",
        "doors = ifc_file.by_type(\"IfcDoor\")\n",
        "windows = ifc_file.by_type(\"IfcWindow\")"
      ],
      "metadata": {
        "colab": {
          "base_uri": "https://localhost:8080/"
        },
        "id": "VOO9ZkTcLTFP",
        "outputId": "db7e7e51-b80a-4125-ee07-12bdf0920809"
      },
      "execution_count": 5,
      "outputs": [
        {
          "output_type": "stream",
          "name": "stdout",
          "text": [
            "Found 53 walls\n"
          ]
        }
      ]
    },
    {
      "cell_type": "markdown",
      "source": [
        "# Accessing Element Properties"
      ],
      "metadata": {
        "id": "JN2Y5sMMLjEf"
      }
    },
    {
      "cell_type": "code",
      "source": [
        "# For a specific wall\n",
        "wall = walls[0]\n",
        "\n",
        "# Basic attributes\n",
        "wall_id = wall.id()\n",
        "global_id = wall.GlobalId\n",
        "name = wall.Name if hasattr(wall, \"Name\") else \"Unnamed\"\n",
        "\n",
        "print(f\"Wall ID: {wall_id}, GlobalId: {global_id}, Name: {name}\")\n",
        "\n",
        "# Get property sets\n",
        "properties = {}\n",
        "if hasattr(wall, \"IsDefinedBy\"):\n",
        "    for definition in wall.IsDefinedBy:\n",
        "        if hasattr(definition, \"RelatingPropertyDefinition\"):\n",
        "            prop_def = definition.RelatingPropertyDefinition\n",
        "            if hasattr(prop_def, \"HasProperties\"):\n",
        "                for prop in prop_def.HasProperties:\n",
        "                    if hasattr(prop, \"Name\") and hasattr(prop, \"NominalValue\"):\n",
        "                        if hasattr(prop.NominalValue, \"wrappedValue\"):\n",
        "                            properties[prop.Name] = prop.NominalValue.wrappedValue\n",
        "\n",
        "print(\"Properties:\", properties)"
      ],
      "metadata": {
        "colab": {
          "base_uri": "https://localhost:8080/"
        },
        "id": "guTVLvZQLns0",
        "outputId": "fe1becb1-05e4-447a-c0a9-252e076a07e8"
      },
      "execution_count": 6,
      "outputs": [
        {
          "output_type": "stream",
          "name": "stdout",
          "text": [
            "Wall ID: 533, GlobalId: 1SSXz$2dn5rQLZV7vKm8tO, Name: Basic Wall:Generic - 150mm:351941\n",
            "Properties: {'Reference': 'Generic - 150mm', 'IsExternal': True, 'ExtendToStructure': False, 'LoadBearing': False}\n"
          ]
        }
      ]
    },
    {
      "cell_type": "markdown",
      "source": [
        "# Extracting Quantities"
      ],
      "metadata": {
        "id": "HtwjnmB4L1VW"
      }
    },
    {
      "cell_type": "code",
      "source": [
        "# Get quantity information\n",
        "quantities = {}\n",
        "if hasattr(wall, \"IsDefinedBy\"):\n",
        "    for definition in wall.IsDefinedBy:\n",
        "        if hasattr(definition, \"RelatingPropertyDefinition\"):\n",
        "            prop_def = definition.RelatingPropertyDefinition\n",
        "            if prop_def.is_a(\"IfcElementQuantity\"):\n",
        "                for quantity in prop_def.Quantities:\n",
        "                    if quantity.is_a(\"IfcQuantityLength\"):\n",
        "                        quantities[quantity.Name] = quantity.LengthValue\n",
        "                    elif quantity.is_a(\"IfcQuantityArea\"):\n",
        "                        quantities[quantity.Name] = quantity.AreaValue\n",
        "                    elif quantity.is_a(\"IfcQuantityVolume\"):\n",
        "                        quantities[quantity.Name] = quantity.VolumeValue\n",
        "\n",
        "print(\"Quantities:\", quantities)"
      ],
      "metadata": {
        "colab": {
          "base_uri": "https://localhost:8080/"
        },
        "id": "R5ZfxUT0L30T",
        "outputId": "7fa5a9b3-b52f-4bfd-da13-83fa576cf45c"
      },
      "execution_count": 7,
      "outputs": [
        {
          "output_type": "stream",
          "name": "stdout",
          "text": [
            "Quantities: {}\n"
          ]
        }
      ]
    },
    {
      "cell_type": "markdown",
      "source": [
        "# Extracting Relationships"
      ],
      "metadata": {
        "id": "on8T97p3MAn6"
      }
    },
    {
      "cell_type": "code",
      "source": [
        "# Get spatial containment (which space contains this wall)\n",
        "spaces = []\n",
        "for rel in ifc_file.by_type(\"IfcRelContainedInSpatialStructure\"):\n",
        "    if wall in rel.RelatedElements:\n",
        "        spaces.append(rel.RelatingStructure.Name)\n",
        "\n",
        "print(\"Contained in spaces:\", spaces)\n",
        "\n",
        "# Get connected elements (e.g., walls connected to this wall)\n",
        "connected_elements = []\n",
        "for rel in ifc_file.by_type(\"IfcRelConnectsElements\"):\n",
        "    if rel.RelatingElement == wall:\n",
        "        connected_elements.append(rel.RelatedElement)\n",
        "    elif rel.RelatedElement == wall:\n",
        "        connected_elements.append(rel.RelatingElement)\n",
        "\n",
        "print(f\"Connected to {len(connected_elements)} other elements\")"
      ],
      "metadata": {
        "colab": {
          "base_uri": "https://localhost:8080/"
        },
        "id": "5l6AAr7GMDRf",
        "outputId": "63a3dddf-7ee4-4d60-dd2d-84acababd895"
      },
      "execution_count": 8,
      "outputs": [
        {
          "output_type": "stream",
          "name": "stdout",
          "text": [
            "Contained in spaces: ['Level 1']\n",
            "Connected to 3 other elements\n"
          ]
        }
      ]
    },
    {
      "cell_type": "markdown",
      "source": [
        "# Extracting Geometry (Advanced)"
      ],
      "metadata": {
        "id": "8fVwcWFjML25"
      }
    },
    {
      "cell_type": "code",
      "source": [
        "# Note: Geometry extraction requires additional ifcopenshell components\n",
        "# This is a simplified example\n",
        "\n",
        "try:\n",
        "    # You need ifcopenshell's geometry module for this\n",
        "    import ifcopenshell.geom\n",
        "\n",
        "    # Create a geometry settings object\n",
        "    settings = ifcopenshell.geom.settings()\n",
        "\n",
        "    # Create a geometry from the wall\n",
        "    shape = ifcopenshell.geom.create_shape(settings, wall)\n",
        "\n",
        "    # Extract vertices\n",
        "    verts = shape.geometry.verts\n",
        "    print(f\"Geometry has {len(verts)//3} vertices\")\n",
        "\n",
        "    # Extract faces\n",
        "    faces = shape.geometry.faces\n",
        "    print(f\"Geometry has {len(faces)//3} triangular faces\")\n",
        "\n",
        "except ImportError:\n",
        "    print(\"Geometry module not available\")"
      ],
      "metadata": {
        "colab": {
          "base_uri": "https://localhost:8080/"
        },
        "id": "l-AhPlAUMNvq",
        "outputId": "a40d137e-b42e-4225-e220-6e75b07138aa"
      },
      "execution_count": 9,
      "outputs": [
        {
          "output_type": "stream",
          "name": "stdout",
          "text": [
            "Geometry has 14 vertices\n",
            "Geometry has 24 triangular faces\n"
          ]
        }
      ]
    },
    {
      "cell_type": "markdown",
      "source": [
        "# Complete Example to Extract All Elements to JSON"
      ],
      "metadata": {
        "id": "0d4bvWnTMY5w"
      }
    },
    {
      "cell_type": "code",
      "source": [
        "import ifcopenshell\n",
        "import json\n",
        "\n",
        "def extract_ifc_to_json(ifc_file_path, output_json_path):\n",
        "    \"\"\"Extract IFC data to a JSON file\"\"\"\n",
        "\n",
        "    ifc_file = ifcopenshell.open(ifc_file_path)\n",
        "\n",
        "    # Dictionary to store all extracted data\n",
        "    building_data = {\n",
        "        \"schema\": ifc_file.schema,\n",
        "        \"elements\": []\n",
        "    }\n",
        "\n",
        "    # Element types to extract\n",
        "    element_types = [\n",
        "        \"IfcWall\", \"IfcSlab\", \"IfcDoor\", \"IfcWindow\",\n",
        "        \"IfcColumn\", \"IfcBeam\", \"IfcSpace\"\n",
        "    ]\n",
        "\n",
        "    # Extract each element type\n",
        "    for element_type in element_types:\n",
        "        elements = ifc_file.by_type(element_type)\n",
        "\n",
        "        for element in elements:\n",
        "            element_data = {\n",
        "                \"id\": element.id(),\n",
        "                \"type\": element_type,\n",
        "                \"global_id\": element.GlobalId,\n",
        "                \"name\": element.Name if hasattr(element, \"Name\") else \"Unnamed\",\n",
        "                \"properties\": {},\n",
        "                \"quantities\": {}\n",
        "            }\n",
        "\n",
        "            # Extract properties\n",
        "            if hasattr(element, \"IsDefinedBy\"):\n",
        "                for definition in element.IsDefinedBy:\n",
        "                    if hasattr(definition, \"RelatingPropertyDefinition\"):\n",
        "                        prop_def = definition.RelatingPropertyDefinition\n",
        "\n",
        "                        # Property sets\n",
        "                        if hasattr(prop_def, \"HasProperties\"):\n",
        "                            for prop in prop_def.HasProperties:\n",
        "                                if hasattr(prop, \"Name\") and hasattr(prop, \"NominalValue\"):\n",
        "                                    if hasattr(prop.NominalValue, \"wrappedValue\"):\n",
        "                                        element_data[\"properties\"][prop.Name] = str(prop.NominalValue.wrappedValue)\n",
        "\n",
        "                        # Quantities\n",
        "                        if prop_def.is_a(\"IfcElementQuantity\"):\n",
        "                            for quantity in prop_def.Quantities:\n",
        "                                if hasattr(quantity, \"Name\"):\n",
        "                                    if quantity.is_a(\"IfcQuantityLength\"):\n",
        "                                        element_data[\"quantities\"][quantity.Name] = quantity.LengthValue\n",
        "                                    elif quantity.is_a(\"IfcQuantityArea\"):\n",
        "                                        element_data[\"quantities\"][quantity.Name] = quantity.AreaValue\n",
        "                                    elif quantity.is_a(\"IfcQuantityVolume\"):\n",
        "                                        element_data[\"quantities\"][quantity.Name] = quantity.VolumeValue\n",
        "                                    elif quantity.is_a(\"IfcQuantityCount\"):\n",
        "                                        element_data[\"quantities\"][quantity.Name] = quantity.CountValue\n",
        "\n",
        "            building_data[\"elements\"].append(element_data)\n",
        "\n",
        "    # Write to JSON file\n",
        "    with open(output_json_path, 'w') as f:\n",
        "        json.dump(building_data, f, indent=4)\n",
        "\n",
        "    return building_data\n",
        "\n",
        "# Example usage\n",
        "data = extract_ifc_to_json(\"1.ifc\", \"extracted_data.json\")\n",
        "print(f\"Extracted {len(data['elements'])} elements to JSON\")"
      ],
      "metadata": {
        "colab": {
          "base_uri": "https://localhost:8080/"
        },
        "id": "w5JWJKeOMaZ1",
        "outputId": "82ab7ea2-a187-425c-bf3b-481f54a493fb"
      },
      "execution_count": 11,
      "outputs": [
        {
          "output_type": "stream",
          "name": "stdout",
          "text": [
            "Extracted 82 elements to JSON\n"
          ]
        }
      ]
    },
    {
      "cell_type": "code",
      "source": [
        "from google.colab import files\n",
        "\n",
        "# After creating your JSON file\n",
        "extract_ifc_to_json(\"1.ifc\", \"extracted_data.json\")\n",
        "\n",
        "# Download the file\n",
        "files.download(\"extracted_data.json\")"
      ],
      "metadata": {
        "colab": {
          "base_uri": "https://localhost:8080/",
          "height": 17
        },
        "id": "9bzioLE7NFfy",
        "outputId": "155932c3-97bc-4c54-de63-da2f361e6887"
      },
      "execution_count": 12,
      "outputs": [
        {
          "output_type": "display_data",
          "data": {
            "text/plain": [
              "<IPython.core.display.Javascript object>"
            ],
            "application/javascript": [
              "\n",
              "    async function download(id, filename, size) {\n",
              "      if (!google.colab.kernel.accessAllowed) {\n",
              "        return;\n",
              "      }\n",
              "      const div = document.createElement('div');\n",
              "      const label = document.createElement('label');\n",
              "      label.textContent = `Downloading \"${filename}\": `;\n",
              "      div.appendChild(label);\n",
              "      const progress = document.createElement('progress');\n",
              "      progress.max = size;\n",
              "      div.appendChild(progress);\n",
              "      document.body.appendChild(div);\n",
              "\n",
              "      const buffers = [];\n",
              "      let downloaded = 0;\n",
              "\n",
              "      const channel = await google.colab.kernel.comms.open(id);\n",
              "      // Send a message to notify the kernel that we're ready.\n",
              "      channel.send({})\n",
              "\n",
              "      for await (const message of channel.messages) {\n",
              "        // Send a message to notify the kernel that we're ready.\n",
              "        channel.send({})\n",
              "        if (message.buffers) {\n",
              "          for (const buffer of message.buffers) {\n",
              "            buffers.push(buffer);\n",
              "            downloaded += buffer.byteLength;\n",
              "            progress.value = downloaded;\n",
              "          }\n",
              "        }\n",
              "      }\n",
              "      const blob = new Blob(buffers, {type: 'application/binary'});\n",
              "      const a = document.createElement('a');\n",
              "      a.href = window.URL.createObjectURL(blob);\n",
              "      a.download = filename;\n",
              "      div.appendChild(a);\n",
              "      a.click();\n",
              "      div.remove();\n",
              "    }\n",
              "  "
            ]
          },
          "metadata": {}
        },
        {
          "output_type": "display_data",
          "data": {
            "text/plain": [
              "<IPython.core.display.Javascript object>"
            ],
            "application/javascript": [
              "download(\"download_acdbc7a8-3b55-4176-85d6-056bd2342fd2\", \"extracted_data.json\", 33383)"
            ]
          },
          "metadata": {}
        }
      ]
    }
  ]
}